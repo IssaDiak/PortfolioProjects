{
 "cells": [
  {
   "cell_type": "markdown",
   "id": "9b3d460b",
   "metadata": {},
   "source": [
    "# Analyse et prévision des coûts de l’assurance médicale"
   ]
  },
  {
   "cell_type": "markdown",
   "id": "76b666ad",
   "metadata": {},
   "source": [
    "***Introduction***\n",
    "\n",
    "Cette analyse présente une étude approfondie des frais annuels d'assurance médicale basée sur un ensemble de données contenant 1 338 enregistrements. Chaque enregistrement représente les caractéristiques d'un individu et comprend les variables suivantes : âge, sexe, indice de masse corporelle (IMC), nombre d'enfants, statut tabagique, région géographique aux États-Unis, et le coût d'assurance annuel (charges). L'objectif principal de cette analyse est de comprendre les facteurs qui influencent les frais d'assurance, d'identifier des tendances clés, et de développer des modèles prédictifs permettant d'anticiper les coûts en fonction des caractéristiques démographiques et de santé.\n",
    "\n",
    "\n",
    "L'ensemble de données comprend 1 338 enregistrements. Chaque enregistrement contient les données ci-dessous pour une personne spécifique.\n",
    "\n",
    "    - age – Âge de la personne\n",
    "\n",
    "    - sex – Sexe de la personne\n",
    "\n",
    "    - bmi – Indice de masse corporelle (IMC) de la personne\n",
    "\n",
    "    - children – Nombre d’enfants pour la personne\n",
    "\n",
    "    - smoker – Statut tabagique de la personne\n",
    "\n",
    "    - region – Région de la personne aux États-Unis\n",
    "\n",
    "    - charges – Frais d’assurance médicale par an pour la personne\n",
    "\n",
    "***Grandes étapes de l'analyse***\n",
    "\n",
    "    1. Préparation et exploration des données : Importation des données, nettoyage (traitement des valeurs manquantes, si applicable), et exploration statistique initiale des frais d'assurance pour en comprendre la répartition.\n",
    "\n",
    "    2. Analyse exploratoire des données (EDA) : Visualisations graphiques pour étudier l'influence de chaque variable (ex. sexe, IMC, statut de fumeur, etc.) sur les coûts d'assurance, afin de dégager des tendances et des relations entre les variables.\n",
    "\n",
    "    3. Modélisation prédictive : Application de modèles de régression pour prédire les frais d'assurance en fonction des caractéristiques disponibles. Comparaison des performances des modèles pour identifier le plus précis.\n",
    "\n",
    "    4. Évaluation des résultats : Mesure de l’efficacité du modèle à l'aide de métriques comme l'erreur quadratique moyenne (RMSE) et l'analyse des résidus.\n",
    "\n",
    "    5. Conclusion : Synthèse des résultats, implications des observations..."
   ]
  },
  {
   "cell_type": "markdown",
   "id": "908b9ffb-caa5-464c-af98-edc13be8f8c0",
   "metadata": {},
   "source": [
    "## Initialisation"
   ]
  },
  {
   "cell_type": "code",
   "execution_count": 4,
   "id": "b89883e7",
   "metadata": {},
   "outputs": [],
   "source": [
    "# Importation des librairies\n",
    "\n",
    "import pandas as pd\n",
    "import numpy as np\n",
    "import matplotlib.pyplot as plt\n",
    "import seaborn as sns"
   ]
  },
  {
   "cell_type": "code",
   "execution_count": 5,
   "id": "4dcc3d22",
   "metadata": {},
   "outputs": [
    {
     "data": {
      "text/html": [
       "<div>\n",
       "<style scoped>\n",
       "    .dataframe tbody tr th:only-of-type {\n",
       "        vertical-align: middle;\n",
       "    }\n",
       "\n",
       "    .dataframe tbody tr th {\n",
       "        vertical-align: top;\n",
       "    }\n",
       "\n",
       "    .dataframe thead th {\n",
       "        text-align: right;\n",
       "    }\n",
       "</style>\n",
       "<table border=\"1\" class=\"dataframe\">\n",
       "  <thead>\n",
       "    <tr style=\"text-align: right;\">\n",
       "      <th></th>\n",
       "      <th>age</th>\n",
       "      <th>sex</th>\n",
       "      <th>bmi</th>\n",
       "      <th>children</th>\n",
       "      <th>smoker</th>\n",
       "      <th>region</th>\n",
       "      <th>charges</th>\n",
       "    </tr>\n",
       "  </thead>\n",
       "  <tbody>\n",
       "    <tr>\n",
       "      <th>0</th>\n",
       "      <td>19</td>\n",
       "      <td>female</td>\n",
       "      <td>27.900</td>\n",
       "      <td>0</td>\n",
       "      <td>yes</td>\n",
       "      <td>southwest</td>\n",
       "      <td>16884.92400</td>\n",
       "    </tr>\n",
       "    <tr>\n",
       "      <th>1</th>\n",
       "      <td>18</td>\n",
       "      <td>male</td>\n",
       "      <td>33.770</td>\n",
       "      <td>1</td>\n",
       "      <td>no</td>\n",
       "      <td>southeast</td>\n",
       "      <td>1725.55230</td>\n",
       "    </tr>\n",
       "    <tr>\n",
       "      <th>2</th>\n",
       "      <td>28</td>\n",
       "      <td>male</td>\n",
       "      <td>33.000</td>\n",
       "      <td>3</td>\n",
       "      <td>no</td>\n",
       "      <td>southeast</td>\n",
       "      <td>4449.46200</td>\n",
       "    </tr>\n",
       "    <tr>\n",
       "      <th>3</th>\n",
       "      <td>33</td>\n",
       "      <td>male</td>\n",
       "      <td>22.705</td>\n",
       "      <td>0</td>\n",
       "      <td>no</td>\n",
       "      <td>northwest</td>\n",
       "      <td>21984.47061</td>\n",
       "    </tr>\n",
       "    <tr>\n",
       "      <th>4</th>\n",
       "      <td>32</td>\n",
       "      <td>male</td>\n",
       "      <td>28.880</td>\n",
       "      <td>0</td>\n",
       "      <td>no</td>\n",
       "      <td>northwest</td>\n",
       "      <td>3866.85520</td>\n",
       "    </tr>\n",
       "  </tbody>\n",
       "</table>\n",
       "</div>"
      ],
      "text/plain": [
       "   age     sex     bmi  children smoker     region      charges\n",
       "0   19  female  27.900         0    yes  southwest  16884.92400\n",
       "1   18    male  33.770         1     no  southeast   1725.55230\n",
       "2   28    male  33.000         3     no  southeast   4449.46200\n",
       "3   33    male  22.705         0     no  northwest  21984.47061\n",
       "4   32    male  28.880         0     no  northwest   3866.85520"
      ]
     },
     "execution_count": 5,
     "metadata": {},
     "output_type": "execute_result"
    }
   ],
   "source": [
    "# Import du dataset\n",
    "\n",
    "df = pd.read_csv(\"insurance.csv\")\n",
    "df_copy = df.copy()\n",
    "df_copy = df_copy.dropna()\n",
    "df_copy.head()"
   ]
  },
  {
   "cell_type": "code",
   "execution_count": 6,
   "id": "ce33422c",
   "metadata": {},
   "outputs": [
    {
     "name": "stdout",
     "output_type": "stream",
     "text": [
      "<class 'pandas.core.frame.DataFrame'>\n",
      "RangeIndex: 1338 entries, 0 to 1337\n",
      "Data columns (total 7 columns):\n",
      " #   Column    Non-Null Count  Dtype  \n",
      "---  ------    --------------  -----  \n",
      " 0   age       1338 non-null   int64  \n",
      " 1   sex       1338 non-null   object \n",
      " 2   bmi       1338 non-null   float64\n",
      " 3   children  1338 non-null   int64  \n",
      " 4   smoker    1338 non-null   object \n",
      " 5   region    1338 non-null   object \n",
      " 6   charges   1338 non-null   float64\n",
      "dtypes: float64(2), int64(2), object(3)\n",
      "memory usage: 73.3+ KB\n"
     ]
    }
   ],
   "source": [
    "df_copy.info()"
   ]
  },
  {
   "cell_type": "markdown",
   "id": "0ac890c5",
   "metadata": {},
   "source": [
    "## Exploration des données"
   ]
  },
  {
   "cell_type": "code",
   "execution_count": 8,
   "id": "45250d4f",
   "metadata": {},
   "outputs": [
    {
     "data": {
      "text/plain": [
       "count     1338.000000\n",
       "mean     13270.422265\n",
       "std      12110.011237\n",
       "min       1121.873900\n",
       "25%       4740.287150\n",
       "50%       9382.033000\n",
       "75%      16639.912515\n",
       "max      63770.428010\n",
       "Name: charges, dtype: float64"
      ]
     },
     "execution_count": 8,
     "metadata": {},
     "output_type": "execute_result"
    }
   ],
   "source": [
    "# Dans un premier temps, on analyse les descriptions statistiques des couts de manière globale\n",
    "\n",
    "df_copy[\"charges\"].describe()"
   ]
  },
  {
   "cell_type": "markdown",
   "id": "a80fd825",
   "metadata": {},
   "source": [
    "***Observations*** : \n",
    "\n",
    "    - cout moyen => 1 327 dollards\n",
    "    - cout minimum => 1 121 dollards\n",
    "    - cout maximum => 6 3770 dollards\n",
    "    - cout median => 9 382 dollards"
   ]
  },
  {
   "cell_type": "markdown",
   "id": "bfd96b6a-a436-4970-8dfb-52edd0f90e10",
   "metadata": {},
   "source": [
    "\n",
    "\n",
    " "
   ]
  },
  {
   "cell_type": "code",
   "execution_count": 11,
   "id": "236bf7ab",
   "metadata": {},
   "outputs": [
    {
     "data": {
      "text/html": [
       "<div>\n",
       "<style scoped>\n",
       "    .dataframe tbody tr th:only-of-type {\n",
       "        vertical-align: middle;\n",
       "    }\n",
       "\n",
       "    .dataframe tbody tr th {\n",
       "        vertical-align: top;\n",
       "    }\n",
       "\n",
       "    .dataframe thead th {\n",
       "        text-align: right;\n",
       "    }\n",
       "</style>\n",
       "<table border=\"1\" class=\"dataframe\">\n",
       "  <thead>\n",
       "    <tr style=\"text-align: right;\">\n",
       "      <th></th>\n",
       "      <th>age</th>\n",
       "      <th>sex</th>\n",
       "      <th>bmi</th>\n",
       "      <th>children</th>\n",
       "      <th>smoker</th>\n",
       "      <th>region</th>\n",
       "      <th>charges</th>\n",
       "      <th>bmi_category</th>\n",
       "      <th>age_category</th>\n",
       "    </tr>\n",
       "  </thead>\n",
       "  <tbody>\n",
       "    <tr>\n",
       "      <th>0</th>\n",
       "      <td>19</td>\n",
       "      <td>female</td>\n",
       "      <td>27.900</td>\n",
       "      <td>0</td>\n",
       "      <td>yes</td>\n",
       "      <td>southwest</td>\n",
       "      <td>16884.92400</td>\n",
       "      <td>over-weight</td>\n",
       "      <td>10-19</td>\n",
       "    </tr>\n",
       "    <tr>\n",
       "      <th>1</th>\n",
       "      <td>18</td>\n",
       "      <td>male</td>\n",
       "      <td>33.770</td>\n",
       "      <td>1</td>\n",
       "      <td>no</td>\n",
       "      <td>southeast</td>\n",
       "      <td>1725.55230</td>\n",
       "      <td>obese</td>\n",
       "      <td>10-19</td>\n",
       "    </tr>\n",
       "    <tr>\n",
       "      <th>2</th>\n",
       "      <td>28</td>\n",
       "      <td>male</td>\n",
       "      <td>33.000</td>\n",
       "      <td>3</td>\n",
       "      <td>no</td>\n",
       "      <td>southeast</td>\n",
       "      <td>4449.46200</td>\n",
       "      <td>obese</td>\n",
       "      <td>20-29</td>\n",
       "    </tr>\n",
       "    <tr>\n",
       "      <th>3</th>\n",
       "      <td>33</td>\n",
       "      <td>male</td>\n",
       "      <td>22.705</td>\n",
       "      <td>0</td>\n",
       "      <td>no</td>\n",
       "      <td>northwest</td>\n",
       "      <td>21984.47061</td>\n",
       "      <td>normal-weight</td>\n",
       "      <td>30-39</td>\n",
       "    </tr>\n",
       "    <tr>\n",
       "      <th>4</th>\n",
       "      <td>32</td>\n",
       "      <td>male</td>\n",
       "      <td>28.880</td>\n",
       "      <td>0</td>\n",
       "      <td>no</td>\n",
       "      <td>northwest</td>\n",
       "      <td>3866.85520</td>\n",
       "      <td>over-weight</td>\n",
       "      <td>30-39</td>\n",
       "    </tr>\n",
       "    <tr>\n",
       "      <th>...</th>\n",
       "      <td>...</td>\n",
       "      <td>...</td>\n",
       "      <td>...</td>\n",
       "      <td>...</td>\n",
       "      <td>...</td>\n",
       "      <td>...</td>\n",
       "      <td>...</td>\n",
       "      <td>...</td>\n",
       "      <td>...</td>\n",
       "    </tr>\n",
       "    <tr>\n",
       "      <th>1333</th>\n",
       "      <td>50</td>\n",
       "      <td>male</td>\n",
       "      <td>30.970</td>\n",
       "      <td>3</td>\n",
       "      <td>no</td>\n",
       "      <td>northwest</td>\n",
       "      <td>10600.54830</td>\n",
       "      <td>obese</td>\n",
       "      <td>50-59</td>\n",
       "    </tr>\n",
       "    <tr>\n",
       "      <th>1334</th>\n",
       "      <td>18</td>\n",
       "      <td>female</td>\n",
       "      <td>31.920</td>\n",
       "      <td>0</td>\n",
       "      <td>no</td>\n",
       "      <td>northeast</td>\n",
       "      <td>2205.98080</td>\n",
       "      <td>obese</td>\n",
       "      <td>10-19</td>\n",
       "    </tr>\n",
       "    <tr>\n",
       "      <th>1335</th>\n",
       "      <td>18</td>\n",
       "      <td>female</td>\n",
       "      <td>36.850</td>\n",
       "      <td>0</td>\n",
       "      <td>no</td>\n",
       "      <td>southeast</td>\n",
       "      <td>1629.83350</td>\n",
       "      <td>obese</td>\n",
       "      <td>10-19</td>\n",
       "    </tr>\n",
       "    <tr>\n",
       "      <th>1336</th>\n",
       "      <td>21</td>\n",
       "      <td>female</td>\n",
       "      <td>25.800</td>\n",
       "      <td>0</td>\n",
       "      <td>no</td>\n",
       "      <td>southwest</td>\n",
       "      <td>2007.94500</td>\n",
       "      <td>over-weight</td>\n",
       "      <td>20-29</td>\n",
       "    </tr>\n",
       "    <tr>\n",
       "      <th>1337</th>\n",
       "      <td>61</td>\n",
       "      <td>female</td>\n",
       "      <td>29.070</td>\n",
       "      <td>0</td>\n",
       "      <td>yes</td>\n",
       "      <td>northwest</td>\n",
       "      <td>29141.36030</td>\n",
       "      <td>over-weight</td>\n",
       "      <td>60-69</td>\n",
       "    </tr>\n",
       "  </tbody>\n",
       "</table>\n",
       "<p>1338 rows × 9 columns</p>\n",
       "</div>"
      ],
      "text/plain": [
       "      age     sex     bmi  children smoker     region      charges  \\\n",
       "0      19  female  27.900         0    yes  southwest  16884.92400   \n",
       "1      18    male  33.770         1     no  southeast   1725.55230   \n",
       "2      28    male  33.000         3     no  southeast   4449.46200   \n",
       "3      33    male  22.705         0     no  northwest  21984.47061   \n",
       "4      32    male  28.880         0     no  northwest   3866.85520   \n",
       "...   ...     ...     ...       ...    ...        ...          ...   \n",
       "1333   50    male  30.970         3     no  northwest  10600.54830   \n",
       "1334   18  female  31.920         0     no  northeast   2205.98080   \n",
       "1335   18  female  36.850         0     no  southeast   1629.83350   \n",
       "1336   21  female  25.800         0     no  southwest   2007.94500   \n",
       "1337   61  female  29.070         0    yes  northwest  29141.36030   \n",
       "\n",
       "       bmi_category age_category  \n",
       "0       over-weight        10-19  \n",
       "1             obese        10-19  \n",
       "2             obese        20-29  \n",
       "3     normal-weight        30-39  \n",
       "4       over-weight        30-39  \n",
       "...             ...          ...  \n",
       "1333          obese        50-59  \n",
       "1334          obese        10-19  \n",
       "1335          obese        10-19  \n",
       "1336    over-weight        20-29  \n",
       "1337    over-weight        60-69  \n",
       "\n",
       "[1338 rows x 9 columns]"
      ]
     },
     "execution_count": 11,
     "metadata": {},
     "output_type": "execute_result"
    }
   ],
   "source": [
    "# Création de catégorie pour l'age et le bmi pour simplifier l'analyse\n",
    "\n",
    "def age_category(age):\n",
    "    age_dict = {\n",
    "            0: '0-9',\n",
    "            1: '10-19',\n",
    "            2: '20-29',\n",
    "            3: '30-39',\n",
    "            4: '40-49',\n",
    "            5: '50-59',\n",
    "            6: '60-69',\n",
    "            7: '70-79',\n",
    "            8: '80-89',\n",
    "            9: '90-99',\n",
    "            10: '100-200'\n",
    "        }\n",
    "    return age_dict[age//10]\n",
    "\n",
    "def bmi_category(bmi):\n",
    "    if bmi < 18.5:\n",
    "        return \"under-weight\"\n",
    "    elif 18.5 < bmi < 24.9:\n",
    "        return \"normal-weight\"\n",
    "    elif 25 < bmi < 29.9:\n",
    "        return \"over-weight\"\n",
    "    elif bmi > 30:\n",
    "        return \"obese\"\n",
    "\n",
    "    \n",
    "df_copy[\"bmi_category\"] = df_copy['bmi'].apply(bmi_category)\n",
    "df_copy[\"age_category\"] = df_copy[\"age\"].apply(age_category)\n",
    "df_copy"
   ]
  },
  {
   "cell_type": "code",
   "execution_count": 12,
   "id": "2bfd2e3f",
   "metadata": {},
   "outputs": [
    {
     "name": "stdout",
     "output_type": "stream",
     "text": [
      "sex\n",
      "male      676\n",
      "female    662\n",
      "Name: count, dtype: int64\n",
      "-----------------\n",
      "region\n",
      "southeast    364\n",
      "southwest    325\n",
      "northwest    325\n",
      "northeast    324\n",
      "Name: count, dtype: int64\n",
      "-----------------\n",
      "smoker\n",
      "no     1064\n",
      "yes     274\n",
      "Name: count, dtype: int64\n",
      "-----------------\n",
      "children\n",
      "0    574\n",
      "1    324\n",
      "2    240\n",
      "3    157\n",
      "4     25\n",
      "5     18\n",
      "Name: count, dtype: int64\n",
      "-----------------\n",
      "age_category\n",
      "20-29    280\n",
      "40-49    279\n",
      "50-59    271\n",
      "30-39    257\n",
      "10-19    137\n",
      "60-69    114\n",
      "Name: count, dtype: int64\n",
      "-----------------\n",
      "bmi_category\n",
      "obese            705\n",
      "over-weight      372\n",
      "normal-weight    221\n",
      "under-weight      20\n",
      "Name: count, dtype: int64\n",
      "-----------------\n"
     ]
    }
   ],
   "source": [
    "# Répartition des personnes en fonction des différentes colonnes\n",
    "\n",
    "print(df_copy[\"sex\"].value_counts())\n",
    "print(\"-----------------\")\n",
    "\n",
    "print(df_copy[\"region\"].value_counts())\n",
    "print(\"-----------------\")\n",
    "\n",
    "print(df_copy[\"smoker\"].value_counts())\n",
    "print(\"-----------------\")\n",
    "\n",
    "print(df_copy[\"children\"].value_counts())\n",
    "print(\"-----------------\")\n",
    "\n",
    "print(df_copy[\"age_category\"].value_counts())\n",
    "print(\"-----------------\")\n",
    "\n",
    "print(df_copy[\"bmi_category\"].value_counts())\n",
    "print(\"-----------------\")"
   ]
  },
  {
   "cell_type": "code",
   "execution_count": 13,
   "id": "9d0e44ce",
   "metadata": {},
   "outputs": [
    {
     "name": "stdout",
     "output_type": "stream",
     "text": [
      "Data distribution analysys\n"
     ]
    },
    {
     "data": {
      "image/png": "[encoded data removed]",
      "text/plain": [
       "<Figure size 640x480 with 1 Axes>"
      ]
     },
     "metadata": {},
     "output_type": "display_data"
    },
    {
     "data": {
      "image/png": "[encoded data removed]",
      "text/plain": [
       "<Figure size 640x480 with 1 Axes>"
      ]
     },
     "metadata": {},
     "output_type": "display_data"
    },
    {
     "data": {
      "image/png": "[encoded data removed]",
      "text/plain": [
       "<Figure size 640x480 with 1 Axes>"
      ]
     },
     "metadata": {},
     "output_type": "display_data"
    },
    {
     "data": {
      "image/png": "[encoded data removed]",
      "text/plain": [
       "<Figure size 640x480 with 1 Axes>"
      ]
     },
     "metadata": {},
     "output_type": "display_data"
    },
    {
     "data": {
      "image/png": "[encoded data removed]",
      "text/plain": [
       "<Figure size 640x480 with 1 Axes>"
      ]
     },
     "metadata": {},
     "output_type": "display_data"
    },
    {
     "data": {
      "image/png": "[encoded data removed]",
      "text/plain": [
       "<Figure size 640x480 with 1 Axes>"
      ]
     },
     "metadata": {},
     "output_type": "display_data"
    }
   ],
   "source": [
    "# Visualisation de la répartition des personnes en fonction des différentes colonnes\n",
    "\n",
    "df_colomns = [\"bmi_category\", \"age_category\", \"sex\", \"children\", \"smoker\", \"region\"]\n",
    "\n",
    "print('Data distribution analysys')\n",
    "for i in df_colomns:\n",
    "    df_copy[i].value_counts().plot(kind=\"bar\")\n",
    "    plt.title(i)\n",
    "    plt.show()"
   ]
  },
  {
   "cell_type": "markdown",
   "id": "2c5b15a7",
   "metadata": {},
   "source": [
    "***Observations*** : \n",
    "\n",
    "    Catégorie de l'IMC : Près de la moitié de la population souffre d'obésité.\n",
    "    Catégorie d'âge : La majorité des individus se situe dans la tranche d'âge de 20 à 60 ans.\n",
    "    Sexe : La distribution entre les sexes est relativement équilibrée.\n",
    "    Enfants : La plupart des personnes ont entre 0 et 3 enfants, avec une prédominance d'individus n'ayant pas d'enfants.\n",
    "    Fumeur : Une très grande majorité de la population ne fume pas.\n",
    "    Région : La population est bien répartie à travers les différentes régions."
   ]
  },
  {
   "cell_type": "code",
   "execution_count": 15,
   "id": "647b01d2",
   "metadata": {},
   "outputs": [
    {
     "name": "stdout",
     "output_type": "stream",
     "text": [
      "Mean cost analysys:\n"
     ]
    },
    {
     "data": {
      "image/png": "[encoded data removed]",
      "text/plain": [
       "<Figure size 640x480 with 1 Axes>"
      ]
     },
     "metadata": {},
     "output_type": "display_data"
    },
    {
     "data": {
      "image/png": "[encoded data removed]",
      "text/plain": [
       "<Figure size 640x480 with 1 Axes>"
      ]
     },
     "metadata": {},
     "output_type": "display_data"
    },
    {
     "data": {
      "image/png": "[encoded data removed]",
      "text/plain": [
       "<Figure size 640x480 with 1 Axes>"
      ]
     },
     "metadata": {},
     "output_type": "display_data"
    },
    {
     "data": {
      "image/png": "[encoded data removed]",
      "text/plain": [
       "<Figure size 640x480 with 1 Axes>"
      ]
     },
     "metadata": {},
     "output_type": "display_data"
    },
    {
     "data": {
      "image/png": "[encoded data removed]",
      "text/plain": [
       "<Figure size 640x480 with 1 Axes>"
      ]
     },
     "metadata": {},
     "output_type": "display_data"
    },
    {
     "data": {
      "image/png": "[encoded data removed]",
      "text/plain": [
       "<Figure size 640x480 with 1 Axes>"
      ]
     },
     "metadata": {},
     "output_type": "display_data"
    }
   ],
   "source": [
    "# Visualisation du cout moyen des charges d'assurance en fonction des différents critères (les colonnes)\n",
    "\n",
    "df_colomns2 = [\"bmi_category\", \"age_category\", \"sex\", \"children\", \"smoker\", \"region\"]\n",
    "\n",
    "print('Mean cost analysys:')\n",
    "\n",
    "for i in df_colomns2:\n",
    "    group_df = df_copy.groupby(i)['charges'].mean()\n",
    "    group_df.plot(y = ['charges'],kind = 'bar')\n",
    "    plt.title(i)\n",
    "    plt.show()\n",
    "    "
   ]
  },
  {
   "cell_type": "markdown",
   "id": "9d0a12dd",
   "metadata": {},
   "source": [
    "***Observations*** : \n",
    "\n",
    "    - Catégorie de l'IMC : Les couts d'assurance sont plus élevés pour les obèses.\n",
    "    - Catégorie d'âge : Plus on est vieux et plus les couts sont élevés. Du coup les 60-69 ans ont les couts les plus élevés.\n",
    "    - Sexe : Les couts d'assurance sont légèrement plus élevés pour les hommes.\n",
    "    - Enfants : Les couts d'assurance sont plus élevés pour les personnes ayant 2 ou 3 enfants. C'est étonnament plus élevés que les personnes ayant 4 ou 5 enfants.\n",
    "    - Fumeur : Les couts d'assurance sont beaucoup plus élevés pour les fumeurs.\n",
    "    - Région : Les couts d'assurance sont plus élevés dans la région du southeast.\n",
    "\n",
    "En conclusion, l'analyse exploratoire met en évidence des variables critiques comme **l'âge, l'IMC et le statut de fumeur qui influencent fortement les frais d'assurance**. Ces résultats offrent une base solide pour orienter la construction des modèles prédictifs, en se concentrant sur les caractéristiques ayant un effet important sur les coûts."
   ]
  },
  {
   "cell_type": "markdown",
   "id": "436c1b20-84f6-4513-afba-e6154ac5ff25",
   "metadata": {},
   "source": [
    "\n",
    " "
   ]
  },
  {
   "cell_type": "markdown",
   "id": "47b7feb8",
   "metadata": {},
   "source": [
    "## Prédiction des couts d'assurance"
   ]
  },
  {
   "cell_type": "markdown",
   "id": "8c654c9c-ce89-435e-8d71-882ff38eeebc",
   "metadata": {},
   "source": [
    "### Régression Linéaire"
   ]
  },
  {
   "cell_type": "code",
   "execution_count": 20,
   "id": "62f6bbe4",
   "metadata": {},
   "outputs": [],
   "source": [
    "# Import des librairies\n",
    "\n",
    "from sklearn.model_selection import train_test_split\n",
    "from sklearn.linear_model import LinearRegression\n",
    "from sklearn.metrics import mean_squared_error\n",
    "from sklearn.metrics import r2_score\n",
    "from sklearn.ensemble import RandomForestRegressor"
   ]
  },
  {
   "cell_type": "code",
   "execution_count": 21,
   "id": "5f6b38f7",
   "metadata": {},
   "outputs": [
    {
     "data": {
      "text/html": [
       "<div>\n",
       "<style scoped>\n",
       "    .dataframe tbody tr th:only-of-type {\n",
       "        vertical-align: middle;\n",
       "    }\n",
       "\n",
       "    .dataframe tbody tr th {\n",
       "        vertical-align: top;\n",
       "    }\n",
       "\n",
       "    .dataframe thead th {\n",
       "        text-align: right;\n",
       "    }\n",
       "</style>\n",
       "<table border=\"1\" class=\"dataframe\">\n",
       "  <thead>\n",
       "    <tr style=\"text-align: right;\">\n",
       "      <th></th>\n",
       "      <th>age</th>\n",
       "      <th>bmi</th>\n",
       "      <th>children</th>\n",
       "      <th>charges</th>\n",
       "      <th>sex_male</th>\n",
       "      <th>smoker_yes</th>\n",
       "      <th>region_northwest</th>\n",
       "      <th>region_southeast</th>\n",
       "      <th>region_southwest</th>\n",
       "      <th>bmi_category_obese</th>\n",
       "      <th>bmi_category_over-weight</th>\n",
       "      <th>bmi_category_under-weight</th>\n",
       "      <th>age_category_20-29</th>\n",
       "      <th>age_category_30-39</th>\n",
       "      <th>age_category_40-49</th>\n",
       "      <th>age_category_50-59</th>\n",
       "      <th>age_category_60-69</th>\n",
       "    </tr>\n",
       "  </thead>\n",
       "  <tbody>\n",
       "    <tr>\n",
       "      <th>0</th>\n",
       "      <td>19</td>\n",
       "      <td>27.900</td>\n",
       "      <td>0</td>\n",
       "      <td>16884.92400</td>\n",
       "      <td>False</td>\n",
       "      <td>True</td>\n",
       "      <td>False</td>\n",
       "      <td>False</td>\n",
       "      <td>True</td>\n",
       "      <td>False</td>\n",
       "      <td>True</td>\n",
       "      <td>False</td>\n",
       "      <td>False</td>\n",
       "      <td>False</td>\n",
       "      <td>False</td>\n",
       "      <td>False</td>\n",
       "      <td>False</td>\n",
       "    </tr>\n",
       "    <tr>\n",
       "      <th>1</th>\n",
       "      <td>18</td>\n",
       "      <td>33.770</td>\n",
       "      <td>1</td>\n",
       "      <td>1725.55230</td>\n",
       "      <td>True</td>\n",
       "      <td>False</td>\n",
       "      <td>False</td>\n",
       "      <td>True</td>\n",
       "      <td>False</td>\n",
       "      <td>True</td>\n",
       "      <td>False</td>\n",
       "      <td>False</td>\n",
       "      <td>False</td>\n",
       "      <td>False</td>\n",
       "      <td>False</td>\n",
       "      <td>False</td>\n",
       "      <td>False</td>\n",
       "    </tr>\n",
       "    <tr>\n",
       "      <th>2</th>\n",
       "      <td>28</td>\n",
       "      <td>33.000</td>\n",
       "      <td>3</td>\n",
       "      <td>4449.46200</td>\n",
       "      <td>True</td>\n",
       "      <td>False</td>\n",
       "      <td>False</td>\n",
       "      <td>True</td>\n",
       "      <td>False</td>\n",
       "      <td>True</td>\n",
       "      <td>False</td>\n",
       "      <td>False</td>\n",
       "      <td>True</td>\n",
       "      <td>False</td>\n",
       "      <td>False</td>\n",
       "      <td>False</td>\n",
       "      <td>False</td>\n",
       "    </tr>\n",
       "    <tr>\n",
       "      <th>3</th>\n",
       "      <td>33</td>\n",
       "      <td>22.705</td>\n",
       "      <td>0</td>\n",
       "      <td>21984.47061</td>\n",
       "      <td>True</td>\n",
       "      <td>False</td>\n",
       "      <td>True</td>\n",
       "      <td>False</td>\n",
       "      <td>False</td>\n",
       "      <td>False</td>\n",
       "      <td>False</td>\n",
       "      <td>False</td>\n",
       "      <td>False</td>\n",
       "      <td>True</td>\n",
       "      <td>False</td>\n",
       "      <td>False</td>\n",
       "      <td>False</td>\n",
       "    </tr>\n",
       "    <tr>\n",
       "      <th>4</th>\n",
       "      <td>32</td>\n",
       "      <td>28.880</td>\n",
       "      <td>0</td>\n",
       "      <td>3866.85520</td>\n",
       "      <td>True</td>\n",
       "      <td>False</td>\n",
       "      <td>True</td>\n",
       "      <td>False</td>\n",
       "      <td>False</td>\n",
       "      <td>False</td>\n",
       "      <td>True</td>\n",
       "      <td>False</td>\n",
       "      <td>False</td>\n",
       "      <td>True</td>\n",
       "      <td>False</td>\n",
       "      <td>False</td>\n",
       "      <td>False</td>\n",
       "    </tr>\n",
       "    <tr>\n",
       "      <th>...</th>\n",
       "      <td>...</td>\n",
       "      <td>...</td>\n",
       "      <td>...</td>\n",
       "      <td>...</td>\n",
       "      <td>...</td>\n",
       "      <td>...</td>\n",
       "      <td>...</td>\n",
       "      <td>...</td>\n",
       "      <td>...</td>\n",
       "      <td>...</td>\n",
       "      <td>...</td>\n",
       "      <td>...</td>\n",
       "      <td>...</td>\n",
       "      <td>...</td>\n",
       "      <td>...</td>\n",
       "      <td>...</td>\n",
       "      <td>...</td>\n",
       "    </tr>\n",
       "    <tr>\n",
       "      <th>1333</th>\n",
       "      <td>50</td>\n",
       "      <td>30.970</td>\n",
       "      <td>3</td>\n",
       "      <td>10600.54830</td>\n",
       "      <td>True</td>\n",
       "      <td>False</td>\n",
       "      <td>True</td>\n",
       "      <td>False</td>\n",
       "      <td>False</td>\n",
       "      <td>True</td>\n",
       "      <td>False</td>\n",
       "      <td>False</td>\n",
       "      <td>False</td>\n",
       "      <td>False</td>\n",
       "      <td>False</td>\n",
       "      <td>True</td>\n",
       "      <td>False</td>\n",
       "    </tr>\n",
       "    <tr>\n",
       "      <th>1334</th>\n",
       "      <td>18</td>\n",
       "      <td>31.920</td>\n",
       "      <td>0</td>\n",
       "      <td>2205.98080</td>\n",
       "      <td>False</td>\n",
       "      <td>False</td>\n",
       "      <td>False</td>\n",
       "      <td>False</td>\n",
       "      <td>False</td>\n",
       "      <td>True</td>\n",
       "      <td>False</td>\n",
       "      <td>False</td>\n",
       "      <td>False</td>\n",
       "      <td>False</td>\n",
       "      <td>False</td>\n",
       "      <td>False</td>\n",
       "      <td>False</td>\n",
       "    </tr>\n",
       "    <tr>\n",
       "      <th>1335</th>\n",
       "      <td>18</td>\n",
       "      <td>36.850</td>\n",
       "      <td>0</td>\n",
       "      <td>1629.83350</td>\n",
       "      <td>False</td>\n",
       "      <td>False</td>\n",
       "      <td>False</td>\n",
       "      <td>True</td>\n",
       "      <td>False</td>\n",
       "      <td>True</td>\n",
       "      <td>False</td>\n",
       "      <td>False</td>\n",
       "      <td>False</td>\n",
       "      <td>False</td>\n",
       "      <td>False</td>\n",
       "      <td>False</td>\n",
       "      <td>False</td>\n",
       "    </tr>\n",
       "    <tr>\n",
       "      <th>1336</th>\n",
       "      <td>21</td>\n",
       "      <td>25.800</td>\n",
       "      <td>0</td>\n",
       "      <td>2007.94500</td>\n",
       "      <td>False</td>\n",
       "      <td>False</td>\n",
       "      <td>False</td>\n",
       "      <td>False</td>\n",
       "      <td>True</td>\n",
       "      <td>False</td>\n",
       "      <td>True</td>\n",
       "      <td>False</td>\n",
       "      <td>True</td>\n",
       "      <td>False</td>\n",
       "      <td>False</td>\n",
       "      <td>False</td>\n",
       "      <td>False</td>\n",
       "    </tr>\n",
       "    <tr>\n",
       "      <th>1337</th>\n",
       "      <td>61</td>\n",
       "      <td>29.070</td>\n",
       "      <td>0</td>\n",
       "      <td>29141.36030</td>\n",
       "      <td>False</td>\n",
       "      <td>True</td>\n",
       "      <td>True</td>\n",
       "      <td>False</td>\n",
       "      <td>False</td>\n",
       "      <td>False</td>\n",
       "      <td>True</td>\n",
       "      <td>False</td>\n",
       "      <td>False</td>\n",
       "      <td>False</td>\n",
       "      <td>False</td>\n",
       "      <td>False</td>\n",
       "      <td>True</td>\n",
       "    </tr>\n",
       "  </tbody>\n",
       "</table>\n",
       "<p>1338 rows × 17 columns</p>\n",
       "</div>"
      ],
      "text/plain": [
       "      age     bmi  children      charges  sex_male  smoker_yes  \\\n",
       "0      19  27.900         0  16884.92400     False        True   \n",
       "1      18  33.770         1   1725.55230      True       False   \n",
       "2      28  33.000         3   4449.46200      True       False   \n",
       "3      33  22.705         0  21984.47061      True       False   \n",
       "4      32  28.880         0   3866.85520      True       False   \n",
       "...   ...     ...       ...          ...       ...         ...   \n",
       "1333   50  30.970         3  10600.54830      True       False   \n",
       "1334   18  31.920         0   2205.98080     False       False   \n",
       "1335   18  36.850         0   1629.83350     False       False   \n",
       "1336   21  25.800         0   2007.94500     False       False   \n",
       "1337   61  29.070         0  29141.36030     False        True   \n",
       "\n",
       "      region_northwest  region_southeast  region_southwest  \\\n",
       "0                False             False              True   \n",
       "1                False              True             False   \n",
       "2                False              True             False   \n",
       "3                 True             False             False   \n",
       "4                 True             False             False   \n",
       "...                ...               ...               ...   \n",
       "1333              True             False             False   \n",
       "1334             False             False             False   \n",
       "1335             False              True             False   \n",
       "1336             False             False              True   \n",
       "1337              True             False             False   \n",
       "\n",
       "      bmi_category_obese  bmi_category_over-weight  bmi_category_under-weight  \\\n",
       "0                  False                      True                      False   \n",
       "1                   True                     False                      False   \n",
       "2                   True                     False                      False   \n",
       "3                  False                     False                      False   \n",
       "4                  False                      True                      False   \n",
       "...                  ...                       ...                        ...   \n",
       "1333                True                     False                      False   \n",
       "1334                True                     False                      False   \n",
       "1335                True                     False                      False   \n",
       "1336               False                      True                      False   \n",
       "1337               False                      True                      False   \n",
       "\n",
       "      age_category_20-29  age_category_30-39  age_category_40-49  \\\n",
       "0                  False               False               False   \n",
       "1                  False               False               False   \n",
       "2                   True               False               False   \n",
       "3                  False                True               False   \n",
       "4                  False                True               False   \n",
       "...                  ...                 ...                 ...   \n",
       "1333               False               False               False   \n",
       "1334               False               False               False   \n",
       "1335               False               False               False   \n",
       "1336                True               False               False   \n",
       "1337               False               False               False   \n",
       "\n",
       "      age_category_50-59  age_category_60-69  \n",
       "0                  False               False  \n",
       "1                  False               False  \n",
       "2                  False               False  \n",
       "3                  False               False  \n",
       "4                  False               False  \n",
       "...                  ...                 ...  \n",
       "1333                True               False  \n",
       "1334               False               False  \n",
       "1335               False               False  \n",
       "1336               False               False  \n",
       "1337               False                True  \n",
       "\n",
       "[1338 rows x 17 columns]"
      ]
     },
     "execution_count": 21,
     "metadata": {},
     "output_type": "execute_result"
    }
   ],
   "source": [
    "# Encodage des variables catégorielles\n",
    "\n",
    "df_encoded = pd.get_dummies(df_copy, drop_first=True)\n",
    "df_encoded"
   ]
  },
  {
   "cell_type": "code",
   "execution_count": 22,
   "id": "1d52f9a1",
   "metadata": {},
   "outputs": [
    {
     "name": "stdout",
     "output_type": "stream",
     "text": [
      "(1338, 16)\n",
      "(1338,)\n"
     ]
    }
   ],
   "source": [
    "# Séparer les variables explicatives et la variable cible\n",
    "\n",
    "x = df_encoded.drop('charges', axis=1)\n",
    "y = df_encoded['charges']\n",
    "\n",
    "print(x.shape)\n",
    "print(y.shape)"
   ]
  },
  {
   "cell_type": "code",
   "execution_count": 23,
   "id": "e10a6184",
   "metadata": {},
   "outputs": [
    {
     "name": "stdout",
     "output_type": "stream",
     "text": [
      "(1070, 16)\n",
      "(268, 16)\n",
      "(1070,)\n",
      "(268,)\n"
     ]
    }
   ],
   "source": [
    "# Division des données en ensembles d'entraînement et de test\n",
    "\n",
    "x_train, x_test, y_train, y_test = train_test_split(x, y, test_size=0.2, random_state=42)\n",
    "\n",
    "print(x_train.shape)\n",
    "print(x_test.shape)\n",
    "print(y_train.shape)\n",
    "print(y_test.shape)"
   ]
  },
  {
   "cell_type": "code",
   "execution_count": 24,
   "id": "59bab311",
   "metadata": {},
   "outputs": [
    {
     "name": "stdout",
     "output_type": "stream",
     "text": [
      "Train score : 0.7517141027327019\n",
      "Test score : 0.7853508598795196\n"
     ]
    }
   ],
   "source": [
    "# Entraînement du modèle de régression linéaire\n",
    "\n",
    "modele = LinearRegression()\n",
    "modele.fit(x_train, y_train)\n",
    "modele.score(x_test, y_test)\n",
    "\n",
    "test_score = modele.score(x_test, y_test)\n",
    "train_score = modele.score(x_train, y_train)\n",
    "\n",
    "print(\"Train score : \" + str(train_score))\n",
    "print(\"Test score : \" + str(test_score))"
   ]
  },
  {
   "cell_type": "code",
   "execution_count": 25,
   "id": "d26138bd",
   "metadata": {},
   "outputs": [
    {
     "name": "stdout",
     "output_type": "stream",
     "text": [
      "RMSE : 5772.694926938762\n",
      "R² : 0.7853508598795196\n"
     ]
    },
    {
     "name": "stderr",
     "output_type": "stream",
     "text": [
      "C:\\Users\\Melissa\\anaconda3\\Lib\\site-packages\\sklearn\\metrics\\_regression.py:492: FutureWarning: 'squared' is deprecated in version 1.4 and will be removed in 1.6. To calculate the root mean squared error, use the function'root_mean_squared_error'.\n",
      "  warnings.warn(\n"
     ]
    }
   ],
   "source": [
    "# Évaluer le Modèle\n",
    "\n",
    "predictions = modele.predict(x_test)\n",
    "\n",
    "# Calcul du RMSE\n",
    "rmse = mean_squared_error(y_test, predictions, squared=False)  # RMSE\n",
    "# Calcul du R²\n",
    "r_squared = r2_score(y_test, predictions)  # R²\n",
    "\n",
    "print(\"RMSE :\", rmse)\n",
    "print(\"R² :\", r_squared)"
   ]
  },
  {
   "cell_type": "markdown",
   "id": "65c21b94",
   "metadata": {},
   "source": [
    "Dans l'ensemble, le modèle est raisonnablement bon pour prédire les charges d'assurance."
   ]
  },
  {
   "cell_type": "code",
   "execution_count": 27,
   "id": "18c12d7c",
   "metadata": {},
   "outputs": [
    {
     "name": "stdout",
     "output_type": "stream",
     "text": [
      "[  268.15132348    83.57485551   547.8813651    -38.25725813\n",
      " 23663.88804516  -455.87191591  -485.86506585  -804.12562433\n",
      "  3653.13170229   425.24924625 -2682.72148682   362.30072758\n",
      " -1144.1532474  -1414.30303391  -474.44016406   317.17626286]\n"
     ]
    }
   ],
   "source": [
    "# Coefficients\n",
    "\n",
    "coefficients = modele.coef_\n",
    "print(coefficients)"
   ]
  },
  {
   "cell_type": "code",
   "execution_count": 28,
   "id": "2220490d",
   "metadata": {},
   "outputs": [
    {
     "name": "stdout",
     "output_type": "stream",
     "text": [
      "                            Coefficient\n",
      "age                          268.151323\n",
      "bmi                           83.574856\n",
      "children                     547.881365\n",
      "sex_male                     -38.257258\n",
      "smoker_yes                 23663.888045\n",
      "region_northwest            -455.871916\n",
      "region_southeast            -485.865066\n",
      "region_southwest            -804.125624\n",
      "bmi_category_obese          3653.131702\n",
      "bmi_category_over-weight     425.249246\n",
      "bmi_category_under-weight  -2682.721487\n",
      "age_category_20-29           362.300728\n",
      "age_category_30-39         -1144.153247\n",
      "age_category_40-49         -1414.303034\n",
      "age_category_50-59          -474.440164\n",
      "age_category_60-69           317.176263\n"
     ]
    }
   ],
   "source": [
    "# Association des coefficients avec les noms des colonnes pour faciliter l'interprétation\n",
    "\n",
    "coef_df = pd.DataFrame(coefficients, index=x.columns, columns=['Coefficient'])\n",
    "print(coef_df)"
   ]
  },
  {
   "cell_type": "markdown",
   "id": "f4fc78fc",
   "metadata": {},
   "source": [
    "***Observations***\n",
    "\n",
    "En conclusion, le modèle de régression linéaire explique bien les charges d'assurance, avec un R² de 75,2 %. Certaines variables, comme le fait d'être fumeur, l'âge, le nombre d'enfants, et l'obésité, sont fortement significatives et influencent beaucoup les charges. D'autres variables, comme le sexe ou certaines catégories d'âge et de régions, n'ont pas d'impact statistiquement significatif. Cependant, il existe un potentiel problème de multicolinéarité, à prendre en compte pour améliorer la stabilité du modèle."
   ]
  },
  {
   "cell_type": "markdown",
   "id": "adbde225",
   "metadata": {},
   "source": [
    "### Arbre de décision"
   ]
  },
  {
   "cell_type": "code",
   "execution_count": 31,
   "id": "5f7186b6",
   "metadata": {},
   "outputs": [
    {
     "name": "stdout",
     "output_type": "stream",
     "text": [
      "train score : 0.9744398953157638\n",
      "test score : 0.8649833684500259\n"
     ]
    }
   ],
   "source": [
    "# Random Forest Regression\n",
    "\n",
    "modele2 = RandomForestRegressor()\n",
    "modele2.fit(x_train, y_train)\n",
    "modele2.score(x_test, y_test)\n",
    "\n",
    "train_score2 = modele2.score(x_train, y_train)\n",
    "test_score2 = modele2.score(x_test, y_test)\n",
    "\n",
    "print(\"train score : \" + str(train_score2))\n",
    "print(\"test score : \" + str(test_score2))"
   ]
  },
  {
   "cell_type": "markdown",
   "id": "085e4697",
   "metadata": {},
   "source": [
    " "
   ]
  },
  {
   "cell_type": "markdown",
   "id": "4498ddaa",
   "metadata": {},
   "source": [
    " "
   ]
  },
  {
   "cell_type": "markdown",
   "id": "d0bfbebc",
   "metadata": {},
   "source": [
    "***Conclusion :***\n",
    "\n",
    "En comparant les performances des deux modèles, Random Forest et régression linéaire, il est clair que le Random Forest surpasse la régression linéaire. Le modèle de Random Forest a affiché un score d’entraînement de 0.976 et un score de test de 0.865, indiquant une forte capacité de généralisation et une aptitude à capturer des relations complexes au sein des données. En revanche, le modèle de régression linéaire a obtenu un score d’entraînement de 0.752 et un score de test de 0.785, ce qui montre qu’il est moins performant dans l’explication de la variance des charges d’assurance.\n",
    "\n",
    "Ces résultats soulignent que bien que la régression linéaire soit plus simple à comprendre et à interpréter, elle peut être limitée par sa capacité à modéliser des relations non linéaires. En revanche, le Random Forest, par sa nature d'ensemble et sa capacité à gérer des interactions complexes, offre une meilleure précision pour ce type de données. De plus Les variables les plus influentes dans la prédiction des coûts sont le statut tabagique, l'IMC, et l'âge, validant les tendances observées lors de l'analyse exploratoire.\n",
    "En conclusion, pour ce cas d’étude, le modèle Random Forest est à privilégier, car il fournit des prédictions plus robustes et précises que la régression linéaire."
   ]
  }
 ],
 "metadata": {
  "kernelspec": {
   "display_name": "Python 3 (ipykernel)",
   "language": "python",
   "name": "python3"
  },
  "language_info": {
   "codemirror_mode": {
    "name": "ipython",
    "version": 3
   },
   "file_extension": ".py",
   "mimetype": "text/x-python",
   "name": "python",
   "nbconvert_exporter": "python",
   "pygments_lexer": "ipython3",
   "version": "3.12.7"
  }
 },
 "nbformat": 4,
 "nbformat_minor": 5
}
